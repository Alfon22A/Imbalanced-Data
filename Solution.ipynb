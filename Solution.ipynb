{
 "cells": [
  {
   "cell_type": "markdown",
   "id": "fbf2746f-1def-4a03-8740-6dab27333564",
   "metadata": {
    "tags": []
   },
   "source": [
    "![logo_ironhack_blue 7](https://user-images.githubusercontent.com/23629340/40541063-a07a0a8a-601a-11e8-91b5-2f13e4e6b441.png)\n",
    "\n",
    "# Lab | Imbalanced data\n",
    "\n",
    "We will be using the `files_for_lab/customer_churn.csv` dataset to build a churn predictor.\n",
    "\n",
    "## Instructions"
   ]
  },
  {
   "cell_type": "code",
   "execution_count": 1,
   "id": "40403ab5-2e08-44e3-8c61-34a4b1e14666",
   "metadata": {},
   "outputs": [],
   "source": [
    "import pandas as pd\n",
    "import numpy as np\n",
    "\n",
    "import matplotlib.pyplot as plt\n",
    "%matplotlib inline\n",
    "import seaborn as sns\n",
    "\n",
    "from sklearn.model_selection import train_test_split\n",
    "from sklearn.linear_model import LogisticRegression\n",
    "from sklearn.preprocessing import StandardScaler\n",
    "\n",
    "from imblearn.over_sampling import SMOTE\n",
    "\n",
    "from sklearn.metrics import confusion_matrix, accuracy_score, precision_score, recall_score, ConfusionMatrixDisplay\n",
    "from sklearn.metrics import classification_report, f1_score, cohen_kappa_score"
   ]
  },
  {
   "cell_type": "markdown",
   "id": "c22b2369-8fc0-499f-b79b-dc060c20d3ed",
   "metadata": {},
   "source": [
    "### 1. Load the dataset and explore the variables."
   ]
  },
  {
   "cell_type": "code",
   "execution_count": 2,
   "id": "cb02e28b-de2c-4fbf-a8d0-678ba57afcd6",
   "metadata": {},
   "outputs": [
    {
     "data": {
      "text/html": [
       "<div>\n",
       "<style scoped>\n",
       "    .dataframe tbody tr th:only-of-type {\n",
       "        vertical-align: middle;\n",
       "    }\n",
       "\n",
       "    .dataframe tbody tr th {\n",
       "        vertical-align: top;\n",
       "    }\n",
       "\n",
       "    .dataframe thead th {\n",
       "        text-align: right;\n",
       "    }\n",
       "</style>\n",
       "<table border=\"1\" class=\"dataframe\">\n",
       "  <thead>\n",
       "    <tr style=\"text-align: right;\">\n",
       "      <th></th>\n",
       "      <th>customerID</th>\n",
       "      <th>gender</th>\n",
       "      <th>SeniorCitizen</th>\n",
       "      <th>Partner</th>\n",
       "      <th>Dependents</th>\n",
       "      <th>tenure</th>\n",
       "      <th>PhoneService</th>\n",
       "      <th>MultipleLines</th>\n",
       "      <th>InternetService</th>\n",
       "      <th>OnlineSecurity</th>\n",
       "      <th>...</th>\n",
       "      <th>DeviceProtection</th>\n",
       "      <th>TechSupport</th>\n",
       "      <th>StreamingTV</th>\n",
       "      <th>StreamingMovies</th>\n",
       "      <th>Contract</th>\n",
       "      <th>PaperlessBilling</th>\n",
       "      <th>PaymentMethod</th>\n",
       "      <th>MonthlyCharges</th>\n",
       "      <th>TotalCharges</th>\n",
       "      <th>Churn</th>\n",
       "    </tr>\n",
       "  </thead>\n",
       "  <tbody>\n",
       "    <tr>\n",
       "      <th>0</th>\n",
       "      <td>7590-VHVEG</td>\n",
       "      <td>Female</td>\n",
       "      <td>0</td>\n",
       "      <td>Yes</td>\n",
       "      <td>No</td>\n",
       "      <td>1</td>\n",
       "      <td>No</td>\n",
       "      <td>No phone service</td>\n",
       "      <td>DSL</td>\n",
       "      <td>No</td>\n",
       "      <td>...</td>\n",
       "      <td>No</td>\n",
       "      <td>No</td>\n",
       "      <td>No</td>\n",
       "      <td>No</td>\n",
       "      <td>Month-to-month</td>\n",
       "      <td>Yes</td>\n",
       "      <td>Electronic check</td>\n",
       "      <td>29.85</td>\n",
       "      <td>29.85</td>\n",
       "      <td>No</td>\n",
       "    </tr>\n",
       "    <tr>\n",
       "      <th>1</th>\n",
       "      <td>5575-GNVDE</td>\n",
       "      <td>Male</td>\n",
       "      <td>0</td>\n",
       "      <td>No</td>\n",
       "      <td>No</td>\n",
       "      <td>34</td>\n",
       "      <td>Yes</td>\n",
       "      <td>No</td>\n",
       "      <td>DSL</td>\n",
       "      <td>Yes</td>\n",
       "      <td>...</td>\n",
       "      <td>Yes</td>\n",
       "      <td>No</td>\n",
       "      <td>No</td>\n",
       "      <td>No</td>\n",
       "      <td>One year</td>\n",
       "      <td>No</td>\n",
       "      <td>Mailed check</td>\n",
       "      <td>56.95</td>\n",
       "      <td>1889.5</td>\n",
       "      <td>No</td>\n",
       "    </tr>\n",
       "    <tr>\n",
       "      <th>2</th>\n",
       "      <td>3668-QPYBK</td>\n",
       "      <td>Male</td>\n",
       "      <td>0</td>\n",
       "      <td>No</td>\n",
       "      <td>No</td>\n",
       "      <td>2</td>\n",
       "      <td>Yes</td>\n",
       "      <td>No</td>\n",
       "      <td>DSL</td>\n",
       "      <td>Yes</td>\n",
       "      <td>...</td>\n",
       "      <td>No</td>\n",
       "      <td>No</td>\n",
       "      <td>No</td>\n",
       "      <td>No</td>\n",
       "      <td>Month-to-month</td>\n",
       "      <td>Yes</td>\n",
       "      <td>Mailed check</td>\n",
       "      <td>53.85</td>\n",
       "      <td>108.15</td>\n",
       "      <td>Yes</td>\n",
       "    </tr>\n",
       "    <tr>\n",
       "      <th>3</th>\n",
       "      <td>7795-CFOCW</td>\n",
       "      <td>Male</td>\n",
       "      <td>0</td>\n",
       "      <td>No</td>\n",
       "      <td>No</td>\n",
       "      <td>45</td>\n",
       "      <td>No</td>\n",
       "      <td>No phone service</td>\n",
       "      <td>DSL</td>\n",
       "      <td>Yes</td>\n",
       "      <td>...</td>\n",
       "      <td>Yes</td>\n",
       "      <td>Yes</td>\n",
       "      <td>No</td>\n",
       "      <td>No</td>\n",
       "      <td>One year</td>\n",
       "      <td>No</td>\n",
       "      <td>Bank transfer (automatic)</td>\n",
       "      <td>42.30</td>\n",
       "      <td>1840.75</td>\n",
       "      <td>No</td>\n",
       "    </tr>\n",
       "    <tr>\n",
       "      <th>4</th>\n",
       "      <td>9237-HQITU</td>\n",
       "      <td>Female</td>\n",
       "      <td>0</td>\n",
       "      <td>No</td>\n",
       "      <td>No</td>\n",
       "      <td>2</td>\n",
       "      <td>Yes</td>\n",
       "      <td>No</td>\n",
       "      <td>Fiber optic</td>\n",
       "      <td>No</td>\n",
       "      <td>...</td>\n",
       "      <td>No</td>\n",
       "      <td>No</td>\n",
       "      <td>No</td>\n",
       "      <td>No</td>\n",
       "      <td>Month-to-month</td>\n",
       "      <td>Yes</td>\n",
       "      <td>Electronic check</td>\n",
       "      <td>70.70</td>\n",
       "      <td>151.65</td>\n",
       "      <td>Yes</td>\n",
       "    </tr>\n",
       "    <tr>\n",
       "      <th>...</th>\n",
       "      <td>...</td>\n",
       "      <td>...</td>\n",
       "      <td>...</td>\n",
       "      <td>...</td>\n",
       "      <td>...</td>\n",
       "      <td>...</td>\n",
       "      <td>...</td>\n",
       "      <td>...</td>\n",
       "      <td>...</td>\n",
       "      <td>...</td>\n",
       "      <td>...</td>\n",
       "      <td>...</td>\n",
       "      <td>...</td>\n",
       "      <td>...</td>\n",
       "      <td>...</td>\n",
       "      <td>...</td>\n",
       "      <td>...</td>\n",
       "      <td>...</td>\n",
       "      <td>...</td>\n",
       "      <td>...</td>\n",
       "      <td>...</td>\n",
       "    </tr>\n",
       "    <tr>\n",
       "      <th>7038</th>\n",
       "      <td>6840-RESVB</td>\n",
       "      <td>Male</td>\n",
       "      <td>0</td>\n",
       "      <td>Yes</td>\n",
       "      <td>Yes</td>\n",
       "      <td>24</td>\n",
       "      <td>Yes</td>\n",
       "      <td>Yes</td>\n",
       "      <td>DSL</td>\n",
       "      <td>Yes</td>\n",
       "      <td>...</td>\n",
       "      <td>Yes</td>\n",
       "      <td>Yes</td>\n",
       "      <td>Yes</td>\n",
       "      <td>Yes</td>\n",
       "      <td>One year</td>\n",
       "      <td>Yes</td>\n",
       "      <td>Mailed check</td>\n",
       "      <td>84.80</td>\n",
       "      <td>1990.5</td>\n",
       "      <td>No</td>\n",
       "    </tr>\n",
       "    <tr>\n",
       "      <th>7039</th>\n",
       "      <td>2234-XADUH</td>\n",
       "      <td>Female</td>\n",
       "      <td>0</td>\n",
       "      <td>Yes</td>\n",
       "      <td>Yes</td>\n",
       "      <td>72</td>\n",
       "      <td>Yes</td>\n",
       "      <td>Yes</td>\n",
       "      <td>Fiber optic</td>\n",
       "      <td>No</td>\n",
       "      <td>...</td>\n",
       "      <td>Yes</td>\n",
       "      <td>No</td>\n",
       "      <td>Yes</td>\n",
       "      <td>Yes</td>\n",
       "      <td>One year</td>\n",
       "      <td>Yes</td>\n",
       "      <td>Credit card (automatic)</td>\n",
       "      <td>103.20</td>\n",
       "      <td>7362.9</td>\n",
       "      <td>No</td>\n",
       "    </tr>\n",
       "    <tr>\n",
       "      <th>7040</th>\n",
       "      <td>4801-JZAZL</td>\n",
       "      <td>Female</td>\n",
       "      <td>0</td>\n",
       "      <td>Yes</td>\n",
       "      <td>Yes</td>\n",
       "      <td>11</td>\n",
       "      <td>No</td>\n",
       "      <td>No phone service</td>\n",
       "      <td>DSL</td>\n",
       "      <td>Yes</td>\n",
       "      <td>...</td>\n",
       "      <td>No</td>\n",
       "      <td>No</td>\n",
       "      <td>No</td>\n",
       "      <td>No</td>\n",
       "      <td>Month-to-month</td>\n",
       "      <td>Yes</td>\n",
       "      <td>Electronic check</td>\n",
       "      <td>29.60</td>\n",
       "      <td>346.45</td>\n",
       "      <td>No</td>\n",
       "    </tr>\n",
       "    <tr>\n",
       "      <th>7041</th>\n",
       "      <td>8361-LTMKD</td>\n",
       "      <td>Male</td>\n",
       "      <td>1</td>\n",
       "      <td>Yes</td>\n",
       "      <td>No</td>\n",
       "      <td>4</td>\n",
       "      <td>Yes</td>\n",
       "      <td>Yes</td>\n",
       "      <td>Fiber optic</td>\n",
       "      <td>No</td>\n",
       "      <td>...</td>\n",
       "      <td>No</td>\n",
       "      <td>No</td>\n",
       "      <td>No</td>\n",
       "      <td>No</td>\n",
       "      <td>Month-to-month</td>\n",
       "      <td>Yes</td>\n",
       "      <td>Mailed check</td>\n",
       "      <td>74.40</td>\n",
       "      <td>306.6</td>\n",
       "      <td>Yes</td>\n",
       "    </tr>\n",
       "    <tr>\n",
       "      <th>7042</th>\n",
       "      <td>3186-AJIEK</td>\n",
       "      <td>Male</td>\n",
       "      <td>0</td>\n",
       "      <td>No</td>\n",
       "      <td>No</td>\n",
       "      <td>66</td>\n",
       "      <td>Yes</td>\n",
       "      <td>No</td>\n",
       "      <td>Fiber optic</td>\n",
       "      <td>Yes</td>\n",
       "      <td>...</td>\n",
       "      <td>Yes</td>\n",
       "      <td>Yes</td>\n",
       "      <td>Yes</td>\n",
       "      <td>Yes</td>\n",
       "      <td>Two year</td>\n",
       "      <td>Yes</td>\n",
       "      <td>Bank transfer (automatic)</td>\n",
       "      <td>105.65</td>\n",
       "      <td>6844.5</td>\n",
       "      <td>No</td>\n",
       "    </tr>\n",
       "  </tbody>\n",
       "</table>\n",
       "<p>7043 rows × 21 columns</p>\n",
       "</div>"
      ],
      "text/plain": [
       "      customerID  gender  SeniorCitizen Partner Dependents  tenure  \\\n",
       "0     7590-VHVEG  Female              0     Yes         No       1   \n",
       "1     5575-GNVDE    Male              0      No         No      34   \n",
       "2     3668-QPYBK    Male              0      No         No       2   \n",
       "3     7795-CFOCW    Male              0      No         No      45   \n",
       "4     9237-HQITU  Female              0      No         No       2   \n",
       "...          ...     ...            ...     ...        ...     ...   \n",
       "7038  6840-RESVB    Male              0     Yes        Yes      24   \n",
       "7039  2234-XADUH  Female              0     Yes        Yes      72   \n",
       "7040  4801-JZAZL  Female              0     Yes        Yes      11   \n",
       "7041  8361-LTMKD    Male              1     Yes         No       4   \n",
       "7042  3186-AJIEK    Male              0      No         No      66   \n",
       "\n",
       "     PhoneService     MultipleLines InternetService OnlineSecurity  ...  \\\n",
       "0              No  No phone service             DSL             No  ...   \n",
       "1             Yes                No             DSL            Yes  ...   \n",
       "2             Yes                No             DSL            Yes  ...   \n",
       "3              No  No phone service             DSL            Yes  ...   \n",
       "4             Yes                No     Fiber optic             No  ...   \n",
       "...           ...               ...             ...            ...  ...   \n",
       "7038          Yes               Yes             DSL            Yes  ...   \n",
       "7039          Yes               Yes     Fiber optic             No  ...   \n",
       "7040           No  No phone service             DSL            Yes  ...   \n",
       "7041          Yes               Yes     Fiber optic             No  ...   \n",
       "7042          Yes                No     Fiber optic            Yes  ...   \n",
       "\n",
       "     DeviceProtection TechSupport StreamingTV StreamingMovies        Contract  \\\n",
       "0                  No          No          No              No  Month-to-month   \n",
       "1                 Yes          No          No              No        One year   \n",
       "2                  No          No          No              No  Month-to-month   \n",
       "3                 Yes         Yes          No              No        One year   \n",
       "4                  No          No          No              No  Month-to-month   \n",
       "...               ...         ...         ...             ...             ...   \n",
       "7038              Yes         Yes         Yes             Yes        One year   \n",
       "7039              Yes          No         Yes             Yes        One year   \n",
       "7040               No          No          No              No  Month-to-month   \n",
       "7041               No          No          No              No  Month-to-month   \n",
       "7042              Yes         Yes         Yes             Yes        Two year   \n",
       "\n",
       "     PaperlessBilling              PaymentMethod MonthlyCharges  TotalCharges  \\\n",
       "0                 Yes           Electronic check          29.85         29.85   \n",
       "1                  No               Mailed check          56.95        1889.5   \n",
       "2                 Yes               Mailed check          53.85        108.15   \n",
       "3                  No  Bank transfer (automatic)          42.30       1840.75   \n",
       "4                 Yes           Electronic check          70.70        151.65   \n",
       "...               ...                        ...            ...           ...   \n",
       "7038              Yes               Mailed check          84.80        1990.5   \n",
       "7039              Yes    Credit card (automatic)         103.20        7362.9   \n",
       "7040              Yes           Electronic check          29.60        346.45   \n",
       "7041              Yes               Mailed check          74.40         306.6   \n",
       "7042              Yes  Bank transfer (automatic)         105.65        6844.5   \n",
       "\n",
       "     Churn  \n",
       "0       No  \n",
       "1       No  \n",
       "2      Yes  \n",
       "3       No  \n",
       "4      Yes  \n",
       "...    ...  \n",
       "7038    No  \n",
       "7039    No  \n",
       "7040    No  \n",
       "7041   Yes  \n",
       "7042    No  \n",
       "\n",
       "[7043 rows x 21 columns]"
      ]
     },
     "execution_count": 2,
     "metadata": {},
     "output_type": "execute_result"
    }
   ],
   "source": [
    "data = pd.read_csv(\"files_for_lab/customer_churn.csv\")\n",
    "data"
   ]
  },
  {
   "cell_type": "markdown",
   "id": "f21ac34c-0c2c-4133-b51b-01c311db60b4",
   "metadata": {},
   "source": [
    "### 2. We will try to predict variable `Churn` using a logistic regression on variables `tenure`, `SeniorCitizen`,`MonthlyCharges`."
   ]
  },
  {
   "cell_type": "code",
   "execution_count": 3,
   "id": "50874b3e-8830-486e-95a2-98a79f88b3b8",
   "metadata": {},
   "outputs": [
    {
     "name": "stdout",
     "output_type": "stream",
     "text": [
      "No     5174\n",
      "Yes    1869\n",
      "Name: Churn, dtype: int64\n",
      "1     613\n",
      "72    362\n",
      "2     238\n",
      "3     200\n",
      "4     176\n",
      "     ... \n",
      "28     57\n",
      "39     56\n",
      "44     51\n",
      "36     50\n",
      "0      11\n",
      "Name: tenure, Length: 73, dtype: int64\n",
      "0    5901\n",
      "1    1142\n",
      "Name: SeniorCitizen, dtype: int64\n",
      "20.05     61\n",
      "19.85     45\n",
      "19.95     44\n",
      "19.90     44\n",
      "20.00     43\n",
      "          ..\n",
      "23.65      1\n",
      "114.70     1\n",
      "43.65      1\n",
      "87.80      1\n",
      "78.70      1\n",
      "Name: MonthlyCharges, Length: 1585, dtype: int64\n",
      "customerID          0\n",
      "gender              0\n",
      "SeniorCitizen       0\n",
      "Partner             0\n",
      "Dependents          0\n",
      "tenure              0\n",
      "PhoneService        0\n",
      "MultipleLines       0\n",
      "InternetService     0\n",
      "OnlineSecurity      0\n",
      "OnlineBackup        0\n",
      "DeviceProtection    0\n",
      "TechSupport         0\n",
      "StreamingTV         0\n",
      "StreamingMovies     0\n",
      "Contract            0\n",
      "PaperlessBilling    0\n",
      "PaymentMethod       0\n",
      "MonthlyCharges      0\n",
      "TotalCharges        0\n",
      "Churn               0\n",
      "dtype: int64\n"
     ]
    }
   ],
   "source": [
    "print(data[\"Churn\"].value_counts())\n",
    "print(data[\"tenure\"].value_counts())\n",
    "print(data[\"SeniorCitizen\"].value_counts())\n",
    "print(data[\"MonthlyCharges\"].value_counts())\n",
    "print(data.isna().sum())"
   ]
  },
  {
   "cell_type": "markdown",
   "id": "31ab76a0-2742-4f39-960a-4a8693643a2f",
   "metadata": {},
   "source": [
    "### 3. Extract the target variable."
   ]
  },
  {
   "cell_type": "code",
   "execution_count": 4,
   "id": "22d5380a-cacb-4b67-a8db-219992f593f3",
   "metadata": {},
   "outputs": [],
   "source": [
    "y = data[\"Churn\"]"
   ]
  },
  {
   "cell_type": "markdown",
   "id": "8500fe7f-1445-4581-9e5a-841d642af39a",
   "metadata": {
    "tags": []
   },
   "source": [
    "### 4. Extract the independent variables and scale them."
   ]
  },
  {
   "cell_type": "code",
   "execution_count": 5,
   "id": "89affcb7-5172-45ac-9392-775f6581605e",
   "metadata": {},
   "outputs": [
    {
     "data": {
      "text/html": [
       "<div>\n",
       "<style scoped>\n",
       "    .dataframe tbody tr th:only-of-type {\n",
       "        vertical-align: middle;\n",
       "    }\n",
       "\n",
       "    .dataframe tbody tr th {\n",
       "        vertical-align: top;\n",
       "    }\n",
       "\n",
       "    .dataframe thead th {\n",
       "        text-align: right;\n",
       "    }\n",
       "</style>\n",
       "<table border=\"1\" class=\"dataframe\">\n",
       "  <thead>\n",
       "    <tr style=\"text-align: right;\">\n",
       "      <th></th>\n",
       "      <th>tenure</th>\n",
       "      <th>SeniorCitizen</th>\n",
       "      <th>MonthlyCharges</th>\n",
       "    </tr>\n",
       "  </thead>\n",
       "  <tbody>\n",
       "    <tr>\n",
       "      <th>0</th>\n",
       "      <td>1</td>\n",
       "      <td>0</td>\n",
       "      <td>29.85</td>\n",
       "    </tr>\n",
       "    <tr>\n",
       "      <th>1</th>\n",
       "      <td>34</td>\n",
       "      <td>0</td>\n",
       "      <td>56.95</td>\n",
       "    </tr>\n",
       "    <tr>\n",
       "      <th>2</th>\n",
       "      <td>2</td>\n",
       "      <td>0</td>\n",
       "      <td>53.85</td>\n",
       "    </tr>\n",
       "    <tr>\n",
       "      <th>3</th>\n",
       "      <td>45</td>\n",
       "      <td>0</td>\n",
       "      <td>42.30</td>\n",
       "    </tr>\n",
       "    <tr>\n",
       "      <th>4</th>\n",
       "      <td>2</td>\n",
       "      <td>0</td>\n",
       "      <td>70.70</td>\n",
       "    </tr>\n",
       "    <tr>\n",
       "      <th>...</th>\n",
       "      <td>...</td>\n",
       "      <td>...</td>\n",
       "      <td>...</td>\n",
       "    </tr>\n",
       "    <tr>\n",
       "      <th>7038</th>\n",
       "      <td>24</td>\n",
       "      <td>0</td>\n",
       "      <td>84.80</td>\n",
       "    </tr>\n",
       "    <tr>\n",
       "      <th>7039</th>\n",
       "      <td>72</td>\n",
       "      <td>0</td>\n",
       "      <td>103.20</td>\n",
       "    </tr>\n",
       "    <tr>\n",
       "      <th>7040</th>\n",
       "      <td>11</td>\n",
       "      <td>0</td>\n",
       "      <td>29.60</td>\n",
       "    </tr>\n",
       "    <tr>\n",
       "      <th>7041</th>\n",
       "      <td>4</td>\n",
       "      <td>1</td>\n",
       "      <td>74.40</td>\n",
       "    </tr>\n",
       "    <tr>\n",
       "      <th>7042</th>\n",
       "      <td>66</td>\n",
       "      <td>0</td>\n",
       "      <td>105.65</td>\n",
       "    </tr>\n",
       "  </tbody>\n",
       "</table>\n",
       "<p>7043 rows × 3 columns</p>\n",
       "</div>"
      ],
      "text/plain": [
       "      tenure  SeniorCitizen  MonthlyCharges\n",
       "0          1              0           29.85\n",
       "1         34              0           56.95\n",
       "2          2              0           53.85\n",
       "3         45              0           42.30\n",
       "4          2              0           70.70\n",
       "...      ...            ...             ...\n",
       "7038      24              0           84.80\n",
       "7039      72              0          103.20\n",
       "7040      11              0           29.60\n",
       "7041       4              1           74.40\n",
       "7042      66              0          105.65\n",
       "\n",
       "[7043 rows x 3 columns]"
      ]
     },
     "execution_count": 5,
     "metadata": {},
     "output_type": "execute_result"
    }
   ],
   "source": [
    "x = data[[\"tenure\", \"SeniorCitizen\", \"MonthlyCharges\"]]\n",
    "x"
   ]
  },
  {
   "cell_type": "code",
   "execution_count": 6,
   "id": "7d97ce27-c7fd-466e-a022-c636b2bdfd5c",
   "metadata": {},
   "outputs": [],
   "source": [
    "x_train, x_test, y_train, y_test = train_test_split(x, y, test_size = 0.22, random_state = 22)"
   ]
  },
  {
   "cell_type": "code",
   "execution_count": 7,
   "id": "6b8852e0-a15d-429d-b0ef-fa9fa9359354",
   "metadata": {},
   "outputs": [
    {
     "data": {
      "text/plain": [
       "<AxesSubplot:>"
      ]
     },
     "execution_count": 7,
     "metadata": {},
     "output_type": "execute_result"
    },
    {
     "data": {
      "image/png": "[encoded data removed]",
      "text/plain": [
       "<Figure size 432x288 with 2 Axes>"
      ]
     },
     "metadata": {
      "needs_background": "light"
     },
     "output_type": "display_data"
    }
   ],
   "source": [
    "sns.heatmap(x_train.corr(), annot = True)"
   ]
  },
  {
   "cell_type": "code",
   "execution_count": 8,
   "id": "9b0198bf-8070-4070-a010-8abfddcfacc4",
   "metadata": {},
   "outputs": [
    {
     "data": {
      "text/plain": [
       "<AxesSubplot:xlabel='MonthlyCharges', ylabel='Count'>"
      ]
     },
     "execution_count": 8,
     "metadata": {},
     "output_type": "execute_result"
    },
    {
     "data": {
      "image/png": "[encoded data removed]",
      "text/plain": [
       "<Figure size 432x288 with 3 Axes>"
      ]
     },
     "metadata": {
      "needs_background": "light"
     },
     "output_type": "display_data"
    }
   ],
   "source": [
    "fig, axs = plt.subplots(1,3)\n",
    "sns.histplot(x_train[\"tenure\"], ax= axs[0])\n",
    "sns.histplot(x_train[\"SeniorCitizen\"], ax= axs[1])\n",
    "sns.histplot(x_train[\"MonthlyCharges\"], ax= axs[2])"
   ]
  },
  {
   "cell_type": "code",
   "execution_count": 9,
   "id": "ec7bb6d9-f98b-4cd8-bbfd-d2f4e2e19b80",
   "metadata": {},
   "outputs": [
    {
     "data": {
      "text/html": [
       "<div>\n",
       "<style scoped>\n",
       "    .dataframe tbody tr th:only-of-type {\n",
       "        vertical-align: middle;\n",
       "    }\n",
       "\n",
       "    .dataframe tbody tr th {\n",
       "        vertical-align: top;\n",
       "    }\n",
       "\n",
       "    .dataframe thead th {\n",
       "        text-align: right;\n",
       "    }\n",
       "</style>\n",
       "<table border=\"1\" class=\"dataframe\">\n",
       "  <thead>\n",
       "    <tr style=\"text-align: right;\">\n",
       "      <th></th>\n",
       "      <th>tenure</th>\n",
       "      <th>SeniorCitizen</th>\n",
       "      <th>MonthlyCharges</th>\n",
       "    </tr>\n",
       "  </thead>\n",
       "  <tbody>\n",
       "    <tr>\n",
       "      <th>190</th>\n",
       "      <td>0.438392</td>\n",
       "      <td>-0.436767</td>\n",
       "      <td>0.242386</td>\n",
       "    </tr>\n",
       "    <tr>\n",
       "      <th>6326</th>\n",
       "      <td>1.209058</td>\n",
       "      <td>-0.436767</td>\n",
       "      <td>-0.702764</td>\n",
       "    </tr>\n",
       "    <tr>\n",
       "      <th>2920</th>\n",
       "      <td>1.614672</td>\n",
       "      <td>-0.436767</td>\n",
       "      <td>0.683233</td>\n",
       "    </tr>\n",
       "    <tr>\n",
       "      <th>806</th>\n",
       "      <td>-0.575642</td>\n",
       "      <td>-0.436767</td>\n",
       "      <td>-0.315353</td>\n",
       "    </tr>\n",
       "    <tr>\n",
       "      <th>4085</th>\n",
       "      <td>-0.088906</td>\n",
       "      <td>-0.436767</td>\n",
       "      <td>-0.811306</td>\n",
       "    </tr>\n",
       "    <tr>\n",
       "      <th>...</th>\n",
       "      <td>...</td>\n",
       "      <td>...</td>\n",
       "      <td>...</td>\n",
       "    </tr>\n",
       "    <tr>\n",
       "      <th>5478</th>\n",
       "      <td>0.803445</td>\n",
       "      <td>-0.436767</td>\n",
       "      <td>1.391261</td>\n",
       "    </tr>\n",
       "    <tr>\n",
       "      <th>356</th>\n",
       "      <td>-0.656765</td>\n",
       "      <td>2.289551</td>\n",
       "      <td>-0.352090</td>\n",
       "    </tr>\n",
       "    <tr>\n",
       "      <th>4908</th>\n",
       "      <td>-0.170028</td>\n",
       "      <td>2.289551</td>\n",
       "      <td>1.386252</td>\n",
       "    </tr>\n",
       "    <tr>\n",
       "      <th>6276</th>\n",
       "      <td>-0.697326</td>\n",
       "      <td>-0.436767</td>\n",
       "      <td>-1.479257</td>\n",
       "    </tr>\n",
       "    <tr>\n",
       "      <th>2933</th>\n",
       "      <td>1.452427</td>\n",
       "      <td>-0.436767</td>\n",
       "      <td>-1.357356</td>\n",
       "    </tr>\n",
       "  </tbody>\n",
       "</table>\n",
       "<p>5493 rows × 3 columns</p>\n",
       "</div>"
      ],
      "text/plain": [
       "        tenure  SeniorCitizen  MonthlyCharges\n",
       "190   0.438392      -0.436767        0.242386\n",
       "6326  1.209058      -0.436767       -0.702764\n",
       "2920  1.614672      -0.436767        0.683233\n",
       "806  -0.575642      -0.436767       -0.315353\n",
       "4085 -0.088906      -0.436767       -0.811306\n",
       "...        ...            ...             ...\n",
       "5478  0.803445      -0.436767        1.391261\n",
       "356  -0.656765       2.289551       -0.352090\n",
       "4908 -0.170028       2.289551        1.386252\n",
       "6276 -0.697326      -0.436767       -1.479257\n",
       "2933  1.452427      -0.436767       -1.357356\n",
       "\n",
       "[5493 rows x 3 columns]"
      ]
     },
     "execution_count": 9,
     "metadata": {},
     "output_type": "execute_result"
    }
   ],
   "source": [
    "sc = StandardScaler().fit(x_train)\n",
    "x_train_sc = sc.transform(x_train)\n",
    "x_train_sc = pd.DataFrame(x_train_sc, index = x_train.index, columns = x_train.columns)\n",
    "x_train_sc"
   ]
  },
  {
   "cell_type": "code",
   "execution_count": 10,
   "id": "faa310c7-683c-4fa0-8c13-914a4174758e",
   "metadata": {},
   "outputs": [
    {
     "data": {
      "text/html": [
       "<div>\n",
       "<style scoped>\n",
       "    .dataframe tbody tr th:only-of-type {\n",
       "        vertical-align: middle;\n",
       "    }\n",
       "\n",
       "    .dataframe tbody tr th {\n",
       "        vertical-align: top;\n",
       "    }\n",
       "\n",
       "    .dataframe thead th {\n",
       "        text-align: right;\n",
       "    }\n",
       "</style>\n",
       "<table border=\"1\" class=\"dataframe\">\n",
       "  <thead>\n",
       "    <tr style=\"text-align: right;\">\n",
       "      <th></th>\n",
       "      <th>tenure</th>\n",
       "      <th>SeniorCitizen</th>\n",
       "      <th>MonthlyCharges</th>\n",
       "    </tr>\n",
       "  </thead>\n",
       "  <tbody>\n",
       "    <tr>\n",
       "      <th>6187</th>\n",
       "      <td>-0.981256</td>\n",
       "      <td>-0.436767</td>\n",
       "      <td>-1.485936</td>\n",
       "    </tr>\n",
       "    <tr>\n",
       "      <th>6448</th>\n",
       "      <td>1.046813</td>\n",
       "      <td>-0.436767</td>\n",
       "      <td>1.336155</td>\n",
       "    </tr>\n",
       "    <tr>\n",
       "      <th>5492</th>\n",
       "      <td>1.330743</td>\n",
       "      <td>-0.436767</td>\n",
       "      <td>-1.313939</td>\n",
       "    </tr>\n",
       "    <tr>\n",
       "      <th>2028</th>\n",
       "      <td>-0.697326</td>\n",
       "      <td>-0.436767</td>\n",
       "      <td>-1.504305</td>\n",
       "    </tr>\n",
       "    <tr>\n",
       "      <th>5376</th>\n",
       "      <td>-0.575642</td>\n",
       "      <td>-0.436767</td>\n",
       "      <td>-1.365705</td>\n",
       "    </tr>\n",
       "    <tr>\n",
       "      <th>...</th>\n",
       "      <td>...</td>\n",
       "      <td>...</td>\n",
       "      <td>...</td>\n",
       "    </tr>\n",
       "    <tr>\n",
       "      <th>1750</th>\n",
       "      <td>0.722322</td>\n",
       "      <td>-0.436767</td>\n",
       "      <td>0.836862</td>\n",
       "    </tr>\n",
       "    <tr>\n",
       "      <th>3217</th>\n",
       "      <td>-1.224624</td>\n",
       "      <td>-0.436767</td>\n",
       "      <td>-1.475917</td>\n",
       "    </tr>\n",
       "    <tr>\n",
       "      <th>2479</th>\n",
       "      <td>0.965690</td>\n",
       "      <td>-0.436767</td>\n",
       "      <td>0.374306</td>\n",
       "    </tr>\n",
       "    <tr>\n",
       "      <th>191</th>\n",
       "      <td>-1.062379</td>\n",
       "      <td>-0.436767</td>\n",
       "      <td>0.880279</td>\n",
       "    </tr>\n",
       "    <tr>\n",
       "      <th>276</th>\n",
       "      <td>0.803445</td>\n",
       "      <td>-0.436767</td>\n",
       "      <td>1.349514</td>\n",
       "    </tr>\n",
       "  </tbody>\n",
       "</table>\n",
       "<p>1550 rows × 3 columns</p>\n",
       "</div>"
      ],
      "text/plain": [
       "        tenure  SeniorCitizen  MonthlyCharges\n",
       "6187 -0.981256      -0.436767       -1.485936\n",
       "6448  1.046813      -0.436767        1.336155\n",
       "5492  1.330743      -0.436767       -1.313939\n",
       "2028 -0.697326      -0.436767       -1.504305\n",
       "5376 -0.575642      -0.436767       -1.365705\n",
       "...        ...            ...             ...\n",
       "1750  0.722322      -0.436767        0.836862\n",
       "3217 -1.224624      -0.436767       -1.475917\n",
       "2479  0.965690      -0.436767        0.374306\n",
       "191  -1.062379      -0.436767        0.880279\n",
       "276   0.803445      -0.436767        1.349514\n",
       "\n",
       "[1550 rows x 3 columns]"
      ]
     },
     "execution_count": 10,
     "metadata": {},
     "output_type": "execute_result"
    }
   ],
   "source": [
    "x_test_sc = sc.transform(x_test)\n",
    "x_test_sc = pd.DataFrame(x_test_sc, index = x_test.index, columns = x_test.columns)\n",
    "x_test_sc"
   ]
  },
  {
   "cell_type": "markdown",
   "id": "9b60a26a-7984-42d1-bb1c-7631d0ad017d",
   "metadata": {},
   "source": [
    "### 5. Build the logistic regression model."
   ]
  },
  {
   "cell_type": "code",
   "execution_count": 11,
   "id": "720b699c-2349-494b-9a47-0912b751f63d",
   "metadata": {},
   "outputs": [],
   "source": [
    "lr1 = LogisticRegression(random_state = 22, solver = \"lbfgs\", multi_class = \"ovr\").fit(x_train_sc, y_train)\n",
    "y_train_pred1 = lr1.predict(x_train_sc)\n",
    "y_test_pred1 = lr1.predict(x_test_sc)"
   ]
  },
  {
   "cell_type": "markdown",
   "id": "d91b9c72-8721-4c85-9441-7bd3af8b5cae",
   "metadata": {},
   "source": [
    "### 6. Evaluate the model."
   ]
  },
  {
   "cell_type": "code",
   "execution_count": 12,
   "id": "2dfdce33-458f-45c2-b56c-9ef154ec30cf",
   "metadata": {},
   "outputs": [
    {
     "name": "stdout",
     "output_type": "stream",
     "text": [
      "The Accuracy in the TRAIN set is: 0.795\n",
      "The Accuracy in the TEST set is: 0.779\n",
      "The Precision in the TRAIN set is: 0.826\n",
      "The Precision in the TEST set is: 0.807\n",
      "The Recall in the TRAIN set is: 0.916\n",
      "The Recall in the TEST set is: 0.909\n",
      "The F1 for the TRAIN set is 0.87\n",
      "The F1 for the TEST set is 0.86\n",
      "The Kappa for the TRAIN set is 0.41\n",
      "The Kappa for the TEST set is 0.39\n"
     ]
    }
   ],
   "source": [
    "print(\"The Accuracy in the TRAIN set is: {:.3f}\".format(accuracy_score(y_train, y_train_pred1)))\n",
    "print(\"The Accuracy in the TEST set is: {:.3f}\".format(accuracy_score(y_test, y_test_pred1)))\n",
    "print(\"The Precision in the TRAIN set is: {:.3f}\".format(precision_score(y_train, y_train_pred1, pos_label=\"No\")))\n",
    "print(\"The Precision in the TEST set is: {:.3f}\".format(precision_score(y_test, y_test_pred1, pos_label=\"No\")))\n",
    "print(\"The Recall in the TRAIN set is: {:.3f}\".format(recall_score(y_train, y_train_pred1, pos_label=\"No\")))\n",
    "print(\"The Recall in the TEST set is: {:.3f}\".format(recall_score(y_test,  y_test_pred1, pos_label=\"No\")))\n",
    "print(\"The F1 for the TRAIN set is {:.2f}\".format(f1_score(y_train,y_train_pred1, pos_label=\"No\")))\n",
    "print(\"The F1 for the TEST set is {:.2f}\".format(f1_score(y_test,y_test_pred1, pos_label=\"No\")))\n",
    "print(\"The Kappa for the TRAIN set is {:.2f}\".format(cohen_kappa_score(y_train, y_train_pred1)))\n",
    "print(\"The Kappa for the TEST set is {:.2f}\".format(cohen_kappa_score(y_test, y_test_pred1)))"
   ]
  },
  {
   "cell_type": "code",
   "execution_count": 13,
   "id": "243e084f-2ac2-47a7-be7c-01ea0c215d16",
   "metadata": {},
   "outputs": [
    {
     "data": {
      "text/plain": [
       "<sklearn.metrics._plot.confusion_matrix.ConfusionMatrixDisplay at 0x2a1172fe3d0>"
      ]
     },
     "execution_count": 13,
     "metadata": {},
     "output_type": "execute_result"
    },
    {
     "data": {
      "image/png": "[encoded data removed]",
      "text/plain": [
       "<Figure size 432x288 with 2 Axes>"
      ]
     },
     "metadata": {
      "needs_background": "light"
     },
     "output_type": "display_data"
    }
   ],
   "source": [
    "cm_train1 = confusion_matrix(y_train, y_train_pred1)\n",
    "disp = ConfusionMatrixDisplay(cm_train1,display_labels=lr1.classes_);\n",
    "disp.plot()"
   ]
  },
  {
   "cell_type": "code",
   "execution_count": 14,
   "id": "3fe7c861-68a4-4db9-b07e-6e8ad94d28db",
   "metadata": {},
   "outputs": [
    {
     "data": {
      "text/plain": [
       "<sklearn.metrics._plot.confusion_matrix.ConfusionMatrixDisplay at 0x2a117474be0>"
      ]
     },
     "execution_count": 14,
     "metadata": {},
     "output_type": "execute_result"
    },
    {
     "data": {
      "image/png": "[encoded data removed]",
      "text/plain": [
       "<Figure size 432x288 with 2 Axes>"
      ]
     },
     "metadata": {
      "needs_background": "light"
     },
     "output_type": "display_data"
    }
   ],
   "source": [
    "cm_test1 = confusion_matrix(y_test, y_test_pred1)\n",
    "disp = ConfusionMatrixDisplay(cm_test1,display_labels=lr1.classes_);\n",
    "disp.plot()"
   ]
  },
  {
   "cell_type": "markdown",
   "id": "9ac05f87-1fe2-4543-ae21-e4f8ad76d94e",
   "metadata": {
    "tags": []
   },
   "source": [
    "### 7. Even a simple model will give us more than 70% accuracy. Why?"
   ]
  },
  {
   "cell_type": "markdown",
   "id": "a3c2fec4-bea5-446a-bc51-2935182eed1f",
   "metadata": {},
   "source": [
    "Accuracy is more than 70% due to class imbalance, we have more than 70% of the data with a Churn of No, even if the model predicted a 100% of data to be No, we would still have more than 70% accuracy, but this is not what we want."
   ]
  },
  {
   "cell_type": "code",
   "execution_count": 15,
   "id": "69dcce58-0aa5-4165-bc0e-3bef68d5335d",
   "metadata": {},
   "outputs": [
    {
     "data": {
      "text/plain": [
       "<AxesSubplot:xlabel='Churn', ylabel='Percent'>"
      ]
     },
     "execution_count": 15,
     "metadata": {},
     "output_type": "execute_result"
    },
    {
     "data": {
      "image/png": "[encoded data removed]",
      "text/plain": [
       "<Figure size 432x288 with 1 Axes>"
      ]
     },
     "metadata": {
      "needs_background": "light"
     },
     "output_type": "display_data"
    }
   ],
   "source": [
    "sns.histplot(data[\"Churn\"], stat = \"percent\")"
   ]
  },
  {
   "cell_type": "markdown",
   "id": "a3d7ec2c-f381-4a42-b6cd-d07f6a8d91b9",
   "metadata": {},
   "source": [
    "### 8. **Synthetic Minority Oversampling TEchnique (SMOTE)**\n",
    "\n",
    "This is an over sampling technique based on nearest neighbors that adds new points between existing points. Apply `imblearn.over_sampling.SMOTE` to the dataset. Build and evaluate the logistic regression model. Is it there any improvement?"
   ]
  },
  {
   "cell_type": "code",
   "execution_count": 16,
   "id": "0a9268d1-02f1-41c4-b26d-1264c1d0dd86",
   "metadata": {},
   "outputs": [],
   "source": [
    "sm = SMOTE(random_state = 22, k_neighbors = 3)\n",
    "\n",
    "x_train_sc_smote, y_train_smote = sm.fit_resample(x_train_sc, y_train)"
   ]
  },
  {
   "cell_type": "code",
   "execution_count": 17,
   "id": "90d4841d-24a8-499a-bf25-71baff84d638",
   "metadata": {},
   "outputs": [],
   "source": [
    "lr2 = LogisticRegression(random_state = 22, solver = \"lbfgs\", multi_class = \"ovr\").fit(x_train_sc_smote, y_train_smote)\n",
    "\n",
    "y_train_pred2 = lr2.predict(x_train_sc_smote)\n",
    "y_test_pred2 = lr2.predict(x_test_sc)"
   ]
  },
  {
   "cell_type": "code",
   "execution_count": 18,
   "id": "1d4645a7-b62f-4ad9-9991-dc29590f5211",
   "metadata": {},
   "outputs": [
    {
     "name": "stdout",
     "output_type": "stream",
     "text": [
      "The Accuracy in the TRAIN set is: 0.731\n",
      "The Accuracy in the TEST set is: 0.735\n",
      "The Precision in the TRAIN set is: 0.733\n",
      "The Precision in the TEST set is: 0.870\n",
      "The Recall in the TRAIN set is: 0.726\n",
      "The Recall in the TEST set is: 0.742\n",
      "The F1 for the TRAIN set is 0.73\n",
      "The F1 for the TEST set is 0.80\n",
      "The Kappa for the TRAIN set is 0.46\n",
      "The Kappa for the TEST set is 0.41\n"
     ]
    }
   ],
   "source": [
    "print(\"The Accuracy in the TRAIN set is: {:.3f}\".format(accuracy_score(y_train_smote, y_train_pred2)))\n",
    "print(\"The Accuracy in the TEST set is: {:.3f}\".format(accuracy_score(y_test, y_test_pred2)))\n",
    "print(\"The Precision in the TRAIN set is: {:.3f}\".format(precision_score(y_train_smote, y_train_pred2, pos_label=\"No\")))\n",
    "print(\"The Precision in the TEST set is: {:.3f}\".format(precision_score(y_test, y_test_pred2, pos_label=\"No\")))\n",
    "print(\"The Recall in the TRAIN set is: {:.3f}\".format(recall_score(y_train_smote, y_train_pred2, pos_label=\"No\")))\n",
    "print(\"The Recall in the TEST set is: {:.3f}\".format(recall_score(y_test,  y_test_pred2, pos_label=\"No\")))\n",
    "print(\"The F1 for the TRAIN set is {:.2f}\".format(f1_score(y_train_smote,y_train_pred2, pos_label=\"No\")))\n",
    "print(\"The F1 for the TEST set is {:.2f}\".format(f1_score(y_test,y_test_pred2, pos_label=\"No\")))\n",
    "print(\"The Kappa for the TRAIN set is {:.2f}\".format(cohen_kappa_score(y_train_smote, y_train_pred2)))\n",
    "print(\"The Kappa for the TEST set is {:.2f}\".format(cohen_kappa_score(y_test, y_test_pred2)))"
   ]
  },
  {
   "cell_type": "code",
   "execution_count": 19,
   "id": "46881249-57c4-4ea5-942e-cf22ee60e2cc",
   "metadata": {},
   "outputs": [
    {
     "data": {
      "text/plain": [
       "<sklearn.metrics._plot.confusion_matrix.ConfusionMatrixDisplay at 0x2a118e34580>"
      ]
     },
     "execution_count": 19,
     "metadata": {},
     "output_type": "execute_result"
    },
    {
     "data": {
      "image/png": "[encoded data removed]",
      "text/plain": [
       "<Figure size 432x288 with 2 Axes>"
      ]
     },
     "metadata": {
      "needs_background": "light"
     },
     "output_type": "display_data"
    }
   ],
   "source": [
    "cm_train2 = confusion_matrix(y_train_smote, y_train_pred2)\n",
    "disp = ConfusionMatrixDisplay(cm_train2,display_labels=lr2.classes_);\n",
    "disp.plot()"
   ]
  },
  {
   "cell_type": "code",
   "execution_count": 20,
   "id": "aa41f552-1045-435e-9fce-b2552f88b140",
   "metadata": {},
   "outputs": [
    {
     "data": {
      "text/plain": [
       "<sklearn.metrics._plot.confusion_matrix.ConfusionMatrixDisplay at 0x2a118eff520>"
      ]
     },
     "execution_count": 20,
     "metadata": {},
     "output_type": "execute_result"
    },
    {
     "data": {
      "image/png": "[encoded data removed]",
      "text/plain": [
       "<Figure size 432x288 with 2 Axes>"
      ]
     },
     "metadata": {
      "needs_background": "light"
     },
     "output_type": "display_data"
    }
   ],
   "source": [
    "cm_test2 = confusion_matrix(y_test, y_test_pred2)\n",
    "disp = ConfusionMatrixDisplay(cm_test2,display_labels=lr2.classes_);\n",
    "disp.plot()"
   ]
  },
  {
   "cell_type": "markdown",
   "id": "a107938e-0f66-4231-90e8-2188e943c2f0",
   "metadata": {},
   "source": [
    "### Conclusion"
   ]
  },
  {
   "cell_type": "code",
   "execution_count": 21,
   "id": "0232777b-45cc-48a0-bc3b-f7a948c93227",
   "metadata": {},
   "outputs": [
    {
     "name": "stdout",
     "output_type": "stream",
     "text": [
      "The Accuracy in the FIRST TEST set is: 0.779\n",
      "The Accuracy in the SECOND TEST set is: 0.735\n",
      "The Precision in the FIRST TEST  set is: 0.807\n",
      "The Precision in the SECOND TEST  set is: 0.870\n",
      "The Recall in the FIRST TEST set is: 0.909\n",
      "The Recall in the SECOND TEST set is: 0.742\n",
      "The F1 for the FIRST TEST set is 0.86\n",
      "The F1 for the SECOND TEST set is 0.80\n",
      "The Kappa for the FIRST TEST set is 0.39\n",
      "The Kappa for the SECOND TEST set is 0.41\n"
     ]
    }
   ],
   "source": [
    "print(\"The Accuracy in the FIRST TEST set is: {:.3f}\".format(accuracy_score(y_test, y_test_pred1)))\n",
    "print(\"The Accuracy in the SECOND TEST set is: {:.3f}\".format(accuracy_score(y_test, y_test_pred2)))\n",
    "print(\"The Precision in the FIRST TEST  set is: {:.3f}\".format(precision_score(y_test, y_test_pred1, pos_label=\"No\")))\n",
    "print(\"The Precision in the SECOND TEST  set is: {:.3f}\".format(precision_score(y_test, y_test_pred2, pos_label=\"No\")))\n",
    "print(\"The Recall in the FIRST TEST set is: {:.3f}\".format(recall_score(y_test,  y_test_pred1, pos_label=\"No\")))\n",
    "print(\"The Recall in the SECOND TEST set is: {:.3f}\".format(recall_score(y_test,  y_test_pred2, pos_label=\"No\")))\n",
    "print(\"The F1 for the FIRST TEST set is {:.2f}\".format(f1_score(y_test,y_test_pred1, pos_label=\"No\")))\n",
    "print(\"The F1 for the SECOND TEST set is {:.2f}\".format(f1_score(y_test,y_test_pred2, pos_label=\"No\")))\n",
    "print(\"The Kappa for the FIRST TEST set is {:.2f}\".format(cohen_kappa_score(y_test, y_test_pred1)))\n",
    "print(\"The Kappa for the SECOND TEST set is {:.2f}\".format(cohen_kappa_score(y_test, y_test_pred2)))"
   ]
  },
  {
   "cell_type": "markdown",
   "id": "729fc95f-d9f0-4fff-8092-2692e04abff3",
   "metadata": {},
   "source": [
    "There is a slight improvement for the Precision and the Kappa Score at the cost of worsening the rest of the metrics, specially the Recall Score (-0.16)."
   ]
  }
 ],
 "metadata": {
  "kernelspec": {
   "display_name": "Python 3 (ipykernel)",
   "language": "python",
   "name": "python3"
  },
  "language_info": {
   "codemirror_mode": {
    "name": "ipython",
    "version": 3
   },
   "file_extension": ".py",
   "mimetype": "text/x-python",
   "name": "python",
   "nbconvert_exporter": "python",
   "pygments_lexer": "ipython3",
   "version": "3.9.12"
  }
 },
 "nbformat": 4,
 "nbformat_minor": 5
}
